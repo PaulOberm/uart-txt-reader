{
 "cells": [
  {
   "cell_type": "code",
   "execution_count": null,
   "id": "90b412ad",
   "metadata": {},
   "outputs": [],
   "source": [
    "file_name_txt = \"data/5_unten_fahrt.txt\";\n",
    "file_name_txt = \"data/unten_5_7_8_9_4.txt\";"
   ]
  },
  {
   "cell_type": "code",
   "execution_count": null,
   "id": "306fe247",
   "metadata": {},
   "outputs": [],
   "source": [
    "using Base64\n",
    "function base16to64(st::AbstractString)\n",
    "    bytes = hex2bytes(st)\n",
    "    return bytes\n",
    "end\n",
    "\n",
    "val = base16to64(\"EA\")\n",
    "typeof(val[1])"
   ]
  },
  {
   "cell_type": "code",
   "execution_count": null,
   "id": "fd843bdd",
   "metadata": {},
   "outputs": [],
   "source": [
    "# Load file status\n",
    "function show_file_status(name=String)\n",
    "    file_status = stat(name)\n",
    "    println(\"File: \", name, \" has \", file_status.size, \" Bytes\")\n",
    "end\n",
    "\n",
    "function split_symbol_string(symbol=String)\n",
    "    _, right = split(symbol, \"RX:\")\n",
    "    # _, right = split(symbol, \"TX:\")\n",
    "    _, right = split(right, \" \")\n",
    "    return right\n",
    "end\n",
    "\n",
    "show_file_status(file_name_txt)"
   ]
  },
  {
   "cell_type": "code",
   "execution_count": null,
   "id": "3cade8e5",
   "metadata": {},
   "outputs": [],
   "source": [
    "function load_uart_array(name=String)\n",
    "    string_array = readlines(name)\n",
    "    exclude_strings = [\"Start\", \"Stop\"]\n",
    "    start_symbol = \"D0\"\n",
    "    n_symbols_per_msg = 6\n",
    "    \n",
    "    uart_array = Array{UInt8}(undef, 1, n_symbols_per_msg)\n",
    "    \n",
    "    col_idx = 1\n",
    "    row_idx = 1\n",
    "    for str in string_array\n",
    "        if occursin(exclude_strings[1], str) || occursin(exclude_strings[2], str)\n",
    "            continue\n",
    "        else\n",
    "            symbol = split_symbol_string(str)\n",
    "            if col_idx <= n_symbols_per_msg\n",
    "                uart_array[row_idx, col_idx] = base16to64(symbol)[1]\n",
    "            else\n",
    "                uart_array = vcat(uart_array, Array{UInt8}(undef, 1, n_symbols_per_msg))\n",
    "                row_idx += 1\n",
    "                col_idx = 1\n",
    "                uart_array[row_idx, col_idx] = base16to64(symbol)[1]\n",
    "            end\n",
    "            col_idx += 1\n",
    "        end\n",
    "    end\n",
    "\n",
    "    return uart_array\n",
    "end\n",
    "\n",
    "uart_array = load_uart_array(file_name_txt);"
   ]
  },
  {
   "cell_type": "code",
   "execution_count": null,
   "id": "050b67ec",
   "metadata": {},
   "outputs": [],
   "source": [
    "function show_array_props(array=Array{UInt8})\n",
    "    array_length = size(array)[1]\n",
    "    n_messages = size(array)[2]\n",
    "    println(\"Array length: \", array_length)\n",
    "    println(\"Message length: \", n_messages)\n",
    "    \n",
    "    unique_symbols = unique(array)\n",
    "    n_unique_symbols = length(unique_symbols)\n",
    "    println(\"Number of unique symbols: \", n_unique_symbols)\n",
    "    \n",
    "    # Iterate columns\n",
    "    for idx in 1:n_messages\n",
    "        unique_column = unique(array[:, idx])\n",
    "        println(idx, \".Byte: \", unique_column)\n",
    "    end\n",
    "    \n",
    "    # Iterate data in message\n",
    "    frame_array = Array{Array{UInt8}}(undef, array_length, 1)\n",
    "    idx = 1\n",
    "    for frame in eachrow(array)\n",
    "        frame_array[idx] = frame[3:6]\n",
    "        idx = idx + 1\n",
    "    end\n",
    "\n",
    "    unique_messages = unique(frame_array)\n",
    "    println(\"Number of individual data frames: \", length(unique_messages))\n",
    "    \n",
    "end\n",
    "\n",
    "show_array_props(uart_array)"
   ]
  }
 ],
 "metadata": {
  "kernelspec": {
   "display_name": "Julia 1.6.1",
   "language": "julia",
   "name": "julia-1.6"
  },
  "language_info": {
   "file_extension": ".jl",
   "mimetype": "application/julia",
   "name": "julia",
   "version": "1.6.1"
  }
 },
 "nbformat": 4,
 "nbformat_minor": 5
}
